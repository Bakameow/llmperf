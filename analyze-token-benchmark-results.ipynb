{
 "cells": [
  {
   "cell_type": "markdown",
   "id": "56950450",
   "metadata": {},
   "source": [
    "# Token Benchmark Example Analysis\n",
    "The following is an example of the analysis that can be done on individual responses that are saved when running `token_benchmark_ray.py` with the flag `--results-dir` which enables the saving of all responses."
   ]
  },
  {
   "cell_type": "code",
   "execution_count": null,
   "id": "dacfe98a-e81b-4089-9506-97a652993b5b",
   "metadata": {
    "tags": []
   },
   "outputs": [],
   "source": [
    "import pandas as pd\n"
   ]
  },
  {
   "cell_type": "code",
   "execution_count": null,
   "id": "17f7abe9-ed9e-466c-b034-577489aaf98b",
   "metadata": {
    "tags": []
   },
   "outputs": [],
   "source": [
    "# path to the individual responses json file\n",
    "df = pd.read_json('/home/uburst/ylm/llmperf/result_outputs/-root-cache-modelscope-hub-models-Qwen-Qwen3-4B-FP8_1000_1000_individual_responses.json')\n"
   ]
  },
  {
   "cell_type": "code",
   "execution_count": null,
   "id": "565a59e4",
   "metadata": {},
   "outputs": [],
   "source": [
    "valid_df = df[(df[\"error_code\"] != \"\")]"
   ]
  },
  {
   "cell_type": "code",
   "execution_count": null,
   "id": "102894bc",
   "metadata": {},
   "outputs": [],
   "source": [
    "valid_df"
   ]
  },
  {
   "cell_type": "code",
   "execution_count": null,
   "id": "c7519fc9",
   "metadata": {},
   "outputs": [],
   "source": [
    "final_df = pd.DataFrame()\n",
    "final_df[\"number_input_tokens\"] = valid_df[\"number_input_tokens\"]\n",
    "final_df[\"number_output_tokens\"] = valid_df[\"number_output_tokens\"]\n",
    "final_df[\"ttft_s\"] = valid_df[\"ttft_s\"]\n",
    "final_df[\"end_to_end_latency_s\"] = valid_df[\"end_to_end_latency_s\"]\n",
    "final_df[\"generation_throughput\"] = valid_df[\"request_output_throughput_token_per_s\"]\n",
    "\n",
    "mean_tokens_in = final_df[\"number_input_tokens\"].mean()\n",
    "mean_tokens_out = valid_df[\"number_output_tokens\"].mean()\n",
    "print(f\"Mean number of input tokens: {mean_tokens_in}. Mean number of output tokens: {mean_tokens_out}\")\n",
    "final_df.plot.scatter(x=\"number_input_tokens\", y=\"ttft_s\", title=\"Number of Input Tokens vs. TTFT\")"
   ]
  },
  {
   "cell_type": "code",
   "execution_count": null,
   "id": "a14de79c",
   "metadata": {},
   "outputs": [],
   "source": [
    "all_token_latencies = valid_df['end_to_end_latency_s'].apply(pd.Series).stack()\n",
    "all_token_latencies = all_token_latencies.reset_index(drop=True)\n",
    "all_token_latencies.plot.hist(title=\"Token Latencies\")\n"
   ]
  },
  {
   "cell_type": "code",
   "execution_count": null,
   "metadata": {},
   "outputs": [],
   "source": []
  }
 ],
 "metadata": {
  "kernelspec": {
   "display_name": "eagle",
   "language": "python",
   "name": "python3"
  },
  "language_info": {
   "codemirror_mode": {
    "name": "ipython",
    "version": 3
   },
   "file_extension": ".py",
   "mimetype": "text/x-python",
   "name": "python",
   "nbconvert_exporter": "python",
   "pygments_lexer": "ipython3",
   "version": "3.11.11"
  }
 },
 "nbformat": 4,
 "nbformat_minor": 5
}
